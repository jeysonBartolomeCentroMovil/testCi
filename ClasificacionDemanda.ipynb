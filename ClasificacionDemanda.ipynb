{
 "cells": [
  {
   "cell_type": "code",
   "execution_count": 63,
   "id": "39f38021",
   "metadata": {},
   "outputs": [
    {
     "name": "stdout",
     "output_type": "stream",
     "text": [
      "ItemCode: MB-DIS-163S8M27, CV: 0.9806439554631562, ADI: 1.0849673202614378\n",
      "ItemCode: NGK-BKR5EKB-11, CV: 3.793307706025483, ADI: 1.305084745762712\n",
      "ItemCode: NGK-BKR6EKB-11, CV: 4.159091586437796, ADI: 1.32\n",
      "['erraticas']\n"
     ]
    },
    {
     "data": {
      "application/vnd.microsoft.datawrangler.viewer.v0+json": {
       "columns": [
        {
         "name": "FECHA",
         "rawType": "datetime64[ns]",
         "type": "datetime"
        },
        {
         "name": "ItemCode",
         "rawType": "object",
         "type": "string"
        },
        {
         "name": "Quantity",
         "rawType": "int64",
         "type": "integer"
        },
        {
         "name": "MONTO USD",
         "rawType": "float64",
         "type": "float"
        },
        {
         "name": "category",
         "rawType": "object",
         "type": "string"
        }
       ],
       "conversionMethod": "pd.DataFrame",
       "ref": "b546154b-66e8-4a86-86ab-db7697d142d4",
       "rows": [
        [
         "2018-08-05 00:00:00",
         "MB-DIS-163S8M27",
         "1",
         "134.712643678",
         "erraticas"
        ],
        [
         "2018-08-12 00:00:00",
         "MB-DIS-163S8M27",
         "148",
         "2151.382183891",
         "erraticas"
        ],
        [
         "2018-08-19 00:00:00",
         "MB-DIS-163S8M27",
         "106",
         "1399.962183895",
         "erraticas"
        ],
        [
         "2018-08-26 00:00:00",
         "MB-DIS-163S8M27",
         "223",
         "3177.79919539",
         "erraticas"
        ],
        [
         "2018-09-02 00:00:00",
         "MB-DIS-163S8M27",
         "208",
         "2629.069080433",
         "erraticas"
        ],
        [
         "2018-09-09 00:00:00",
         "MB-DIS-163S8M27",
         "480",
         "5855.823103418",
         "erraticas"
        ],
        [
         "2018-09-16 00:00:00",
         "MB-DIS-163S8M27",
         "441",
         "6295.314140187",
         "erraticas"
        ],
        [
         "2018-09-23 00:00:00",
         "MB-DIS-163S8M27",
         "343",
         "4255.821379276",
         "erraticas"
        ],
        [
         "2018-09-30 00:00:00",
         "MB-DIS-163S8M27",
         "363",
         "4496.811838991",
         "erraticas"
        ],
        [
         "2018-10-07 00:00:00",
         "MB-DIS-163S8M27",
         "1393",
         "16908.316206849",
         "erraticas"
        ],
        [
         "2018-10-14 00:00:00",
         "MB-DIS-163S8M27",
         "1298",
         "15640.906206829999",
         "erraticas"
        ],
        [
         "2018-10-21 00:00:00",
         "MB-DIS-163S8M27",
         "593",
         "7390.97770112",
         "erraticas"
        ],
        [
         "2018-10-28 00:00:00",
         "MB-DIS-163S8M27",
         "48",
         "701.06632182",
         "erraticas"
        ],
        [
         "2018-11-04 00:00:00",
         "MB-DIS-163S8M27",
         "297",
         "3578.846436744",
         "erraticas"
        ],
        [
         "2018-11-11 00:00:00",
         "MB-DIS-163S8M27",
         "114",
         "1496.361494228",
         "erraticas"
        ],
        [
         "2018-11-18 00:00:00",
         "MB-DIS-163S8M27",
         "316",
         "4053.135057459",
         "erraticas"
        ],
        [
         "2018-11-25 00:00:00",
         "MB-DIS-163S8M27",
         "139",
         "1797.616206866",
         "erraticas"
        ],
        [
         "2018-12-02 00:00:00",
         "MB-DIS-163S8M27",
         "221",
         "2785.70908042",
         "erraticas"
        ],
        [
         "2018-12-09 00:00:00",
         "MB-DIS-163S8M27",
         "89",
         "1072.448390796",
         "erraticas"
        ],
        [
         "2018-12-16 00:00:00",
         "MB-DIS-163S8M27",
         "109",
         "1436.109539046",
         "erraticas"
        ],
        [
         "2018-12-23 00:00:00",
         "MB-DIS-163S8M27",
         "160",
         "1928.00172411",
         "erraticas"
        ],
        [
         "2018-12-30 00:00:00",
         "MB-DIS-163S8M27",
         "707",
         "8642.011953994",
         "erraticas"
        ],
        [
         "2019-01-06 00:00:00",
         "MB-DIS-163S8M27",
         "85",
         "1024.249770101",
         "erraticas"
        ],
        [
         "2019-01-13 00:00:00",
         "MB-DIS-163S8M27",
         "91",
         "1219.213103414",
         "erraticas"
        ],
        [
         "2019-01-20 00:00:00",
         "MB-DIS-163S8M27",
         "207",
         "2617.016665489",
         "erraticas"
        ],
        [
         "2019-01-27 00:00:00",
         "MB-DIS-163S8M27",
         "398",
         "4918.563103406",
         "erraticas"
        ],
        [
         "2019-02-03 00:00:00",
         "MB-DIS-163S8M27",
         "604",
         "7400.86356085",
         "erraticas"
        ],
        [
         "2019-02-10 00:00:00",
         "MB-DIS-163S8M27",
         "398",
         "4795.898505703",
         "erraticas"
        ],
        [
         "2019-02-17 00:00:00",
         "MB-DIS-163S8M27",
         "244",
         "2940.205057421",
         "erraticas"
        ],
        [
         "2019-02-24 00:00:00",
         "MB-DIS-163S8M27",
         "254",
         "3428.701839044",
         "erraticas"
        ],
        [
         "2019-03-03 00:00:00",
         "MB-DIS-163S8M27",
         "693",
         "8350.655747101",
         "erraticas"
        ],
        [
         "2019-03-10 00:00:00",
         "MB-DIS-163S8M27",
         "193",
         "2325.65264597",
         "erraticas"
        ],
        [
         "2019-03-17 00:00:00",
         "MB-DIS-163S8M27",
         "127",
         "2021.008505722",
         "erraticas"
        ],
        [
         "2019-03-24 00:00:00",
         "MB-DIS-163S8M27",
         "134",
         "1614.704367763",
         "erraticas"
        ],
        [
         "2019-03-31 00:00:00",
         "MB-DIS-163S8M27",
         "336",
         "4294.131837884",
         "erraticas"
        ],
        [
         "2019-04-07 00:00:00",
         "MB-DIS-163S8M27",
         "345",
         "4157.257011471",
         "erraticas"
        ],
        [
         "2019-04-14 00:00:00",
         "MB-DIS-163S8M27",
         "544",
         "6677.8709183500005",
         "erraticas"
        ],
        [
         "2019-04-21 00:00:00",
         "MB-DIS-163S8M27",
         "1999",
         "24210.621494202",
         "erraticas"
        ],
        [
         "2019-04-28 00:00:00",
         "MB-DIS-163S8M27",
         "399",
         "4930.616666605",
         "erraticas"
        ],
        [
         "2019-05-05 00:00:00",
         "MB-DIS-163S8M27",
         "406",
         "4892.2995401690005",
         "erraticas"
        ],
        [
         "2019-05-12 00:00:00",
         "MB-DIS-163S8M27",
         "767",
         "9487.678735568",
         "erraticas"
        ],
        [
         "2019-05-19 00:00:00",
         "MB-DIS-163S8M27",
         "1096",
         "13206.821494121",
         "erraticas"
        ],
        [
         "2019-05-26 00:00:00",
         "MB-DIS-163S8M27",
         "196",
         "2852.452872402",
         "erraticas"
        ],
        [
         "2019-06-02 00:00:00",
         "MB-DIS-163S8M27",
         "301",
         "3749.720342467",
         "erraticas"
        ],
        [
         "2019-06-09 00:00:00",
         "MB-DIS-163S8M27",
         "185",
         "2474.5750574490003",
         "erraticas"
        ],
        [
         "2019-06-16 00:00:00",
         "MB-DIS-163S8M27",
         "198",
         "2508.565057437",
         "erraticas"
        ],
        [
         "2019-06-23 00:00:00",
         "MB-DIS-163S8M27",
         "93",
         "1611.299310321",
         "erraticas"
        ],
        [
         "2019-06-30 00:00:00",
         "MB-DIS-163S8M27",
         "521",
         "6523.36574477",
         "erraticas"
        ],
        [
         "2019-07-07 00:00:00",
         "MB-DIS-163S8M27",
         "71",
         "1100.874597665",
         "erraticas"
        ],
        [
         "2019-07-14 00:00:00",
         "MB-DIS-163S8M27",
         "383",
         "4860.474712583",
         "erraticas"
        ]
       ],
       "shape": {
        "columns": 4,
        "rows": 485
       }
      },
      "text/html": [
       "<div>\n",
       "<style scoped>\n",
       "    .dataframe tbody tr th:only-of-type {\n",
       "        vertical-align: middle;\n",
       "    }\n",
       "\n",
       "    .dataframe tbody tr th {\n",
       "        vertical-align: top;\n",
       "    }\n",
       "\n",
       "    .dataframe thead th {\n",
       "        text-align: right;\n",
       "    }\n",
       "</style>\n",
       "<table border=\"1\" class=\"dataframe\">\n",
       "  <thead>\n",
       "    <tr style=\"text-align: right;\">\n",
       "      <th></th>\n",
       "      <th>ItemCode</th>\n",
       "      <th>Quantity</th>\n",
       "      <th>MONTO USD</th>\n",
       "      <th>category</th>\n",
       "    </tr>\n",
       "    <tr>\n",
       "      <th>FECHA</th>\n",
       "      <th></th>\n",
       "      <th></th>\n",
       "      <th></th>\n",
       "      <th></th>\n",
       "    </tr>\n",
       "  </thead>\n",
       "  <tbody>\n",
       "    <tr>\n",
       "      <th>2018-08-05</th>\n",
       "      <td>MB-DIS-163S8M27</td>\n",
       "      <td>1</td>\n",
       "      <td>134.712644</td>\n",
       "      <td>erraticas</td>\n",
       "    </tr>\n",
       "    <tr>\n",
       "      <th>2018-08-12</th>\n",
       "      <td>MB-DIS-163S8M27</td>\n",
       "      <td>148</td>\n",
       "      <td>2151.382184</td>\n",
       "      <td>erraticas</td>\n",
       "    </tr>\n",
       "    <tr>\n",
       "      <th>2018-08-19</th>\n",
       "      <td>MB-DIS-163S8M27</td>\n",
       "      <td>106</td>\n",
       "      <td>1399.962184</td>\n",
       "      <td>erraticas</td>\n",
       "    </tr>\n",
       "    <tr>\n",
       "      <th>2018-08-26</th>\n",
       "      <td>MB-DIS-163S8M27</td>\n",
       "      <td>223</td>\n",
       "      <td>3177.799195</td>\n",
       "      <td>erraticas</td>\n",
       "    </tr>\n",
       "    <tr>\n",
       "      <th>2018-09-02</th>\n",
       "      <td>MB-DIS-163S8M27</td>\n",
       "      <td>208</td>\n",
       "      <td>2629.069080</td>\n",
       "      <td>erraticas</td>\n",
       "    </tr>\n",
       "    <tr>\n",
       "      <th>...</th>\n",
       "      <td>...</td>\n",
       "      <td>...</td>\n",
       "      <td>...</td>\n",
       "      <td>...</td>\n",
       "    </tr>\n",
       "    <tr>\n",
       "      <th>2021-09-05</th>\n",
       "      <td>NGK-BKR6EKB-11</td>\n",
       "      <td>0</td>\n",
       "      <td>0.000000</td>\n",
       "      <td>erraticas</td>\n",
       "    </tr>\n",
       "    <tr>\n",
       "      <th>2021-09-12</th>\n",
       "      <td>NGK-BKR6EKB-11</td>\n",
       "      <td>0</td>\n",
       "      <td>0.000000</td>\n",
       "      <td>erraticas</td>\n",
       "    </tr>\n",
       "    <tr>\n",
       "      <th>2021-09-19</th>\n",
       "      <td>NGK-BKR6EKB-11</td>\n",
       "      <td>550</td>\n",
       "      <td>1006.500000</td>\n",
       "      <td>erraticas</td>\n",
       "    </tr>\n",
       "    <tr>\n",
       "      <th>2021-09-26</th>\n",
       "      <td>NGK-BKR6EKB-11</td>\n",
       "      <td>3250</td>\n",
       "      <td>5947.500000</td>\n",
       "      <td>erraticas</td>\n",
       "    </tr>\n",
       "    <tr>\n",
       "      <th>2021-10-03</th>\n",
       "      <td>NGK-BKR6EKB-11</td>\n",
       "      <td>200</td>\n",
       "      <td>366.000000</td>\n",
       "      <td>erraticas</td>\n",
       "    </tr>\n",
       "  </tbody>\n",
       "</table>\n",
       "<p>485 rows × 4 columns</p>\n",
       "</div>"
      ],
      "text/plain": [
       "                   ItemCode  Quantity    MONTO USD   category\n",
       "FECHA                                                        \n",
       "2018-08-05  MB-DIS-163S8M27         1   134.712644  erraticas\n",
       "2018-08-12  MB-DIS-163S8M27       148  2151.382184  erraticas\n",
       "2018-08-19  MB-DIS-163S8M27       106  1399.962184  erraticas\n",
       "2018-08-26  MB-DIS-163S8M27       223  3177.799195  erraticas\n",
       "2018-09-02  MB-DIS-163S8M27       208  2629.069080  erraticas\n",
       "...                     ...       ...          ...        ...\n",
       "2021-09-05   NGK-BKR6EKB-11         0     0.000000  erraticas\n",
       "2021-09-12   NGK-BKR6EKB-11         0     0.000000  erraticas\n",
       "2021-09-19   NGK-BKR6EKB-11       550  1006.500000  erraticas\n",
       "2021-09-26   NGK-BKR6EKB-11      3250  5947.500000  erraticas\n",
       "2021-10-03   NGK-BKR6EKB-11       200   366.000000  erraticas\n",
       "\n",
       "[485 rows x 4 columns]"
      ]
     },
     "execution_count": 63,
     "metadata": {},
     "output_type": "execute_result"
    }
   ],
   "source": [
    "import pandas as pd\n",
    "import matplotlib.pyplot as plt\n",
    "from scipy.stats import shapiro, boxcox\n",
    "from sklearn.preprocessing import PowerTransformer\n",
    "from statsmodels.tsa.stattools import adfuller\n",
    "from numpy import log\n",
    "import numpy as np\n",
    "\n",
    "excel1 = pd.read_excel(\"../datos/centro_movil.xlsx\", engine='openpyxl')\n",
    "excel2 = pd.read_excel(\"../datos/centro_movil1.xlsx\", engine='openpyxl')\n",
    "excel3 = pd.read_excel(\"../datos/centro_movil2.xlsx\", engine='openpyxl')\n",
    "\n",
    "df = pd.concat([excel1, excel2, excel3], ignore_index=True)\n",
    "\n",
    "item_codes = df['ItemCode'].unique()\n",
    "\n",
    "df_merge = pd.DataFrame()\n",
    "\n",
    "def calculate_metrics(df, item_code):\n",
    "    df_item = df.loc[df['ItemCode'] == item_code].copy()\n",
    "    df_item['FECHA'] = pd.to_datetime(df_item['FECHA'])\n",
    "    df_item.set_index('FECHA', inplace=True)\n",
    "    df_resampled = df_item.resample('W').sum()\n",
    "    df_filtered = df_resampled[df_resampled['Quantity'] != 0]\n",
    "\n",
    "    # Calcular ADI\n",
    "    total_periods = len(df_resampled)\n",
    "    periods_with_demand = len(df_filtered)\n",
    "    ADI = total_periods / periods_with_demand\n",
    "\n",
    "    # Calcular CV²\n",
    "    media = np.mean(df_filtered['Quantity'])\n",
    "    sdt = np.std(df_filtered['Quantity'])\n",
    "    cv = (sdt / media) ** 2\n",
    "        \n",
    "    if ADI <= 1.32 and cv <= 0.49:\n",
    "        df_resampled['category'] = 'suavizadas'\n",
    "    elif ADI <= 1.32 and cv > 0.49:\n",
    "        df_resampled['category'] = 'erraticas'\n",
    "    elif ADI > 1.32 and cv > 0.49:\n",
    "        df_resampled['category'] = 'irregulares'\n",
    "    elif ADI > 1.32 and cv <= 0.49:\n",
    "        df_resampled['category'] = 'intermitentes'\n",
    "\n",
    "    df_resampled['ItemCode'] = item_code\n",
    "    \n",
    "    return cv, ADI, df_resampled\n",
    "\n",
    "metrics = {item_code: calculate_metrics(df, item_code) for item_code in item_codes}\n",
    "\n",
    "df_merge = pd.concat([df_resampled for _, _, df_resampled in metrics.values()], ignore_index=False)\n",
    "\n",
    "for item_code, (cv, ADI, _) in metrics.items():\n",
    "    print(f\"ItemCode: {item_code}, CV: {cv}, ADI: {ADI}\")\n",
    "\n",
    "\n",
    "print(df_merge['category'].unique())\n",
    "df_merge\n",
    "\n"
   ]
  },
  {
   "cell_type": "code",
   "execution_count": 64,
   "id": "17d1641d",
   "metadata": {},
   "outputs": [
    {
     "name": "stdout",
     "output_type": "stream",
     "text": [
      "ItemCode: MB-DIS-163S8M27, CV: 0.9806439554631562, ADI: 1.0849673202614378\n",
      "ItemCode: NGK-BKR5EKB-11, CV: 3.793307706025483, ADI: 1.305084745762712\n",
      "ItemCode: NGK-BKR6EKB-11, CV: 4.159091586437796, ADI: 1.32\n",
      "['erraticas']\n"
     ]
    },
    {
     "data": {
      "application/vnd.microsoft.datawrangler.viewer.v0+json": {
       "columns": [
        {
         "name": "FECHA",
         "rawType": "datetime64[ns]",
         "type": "datetime"
        },
        {
         "name": "ItemCode",
         "rawType": "object",
         "type": "string"
        },
        {
         "name": "Quantity",
         "rawType": "float64",
         "type": "float"
        },
        {
         "name": "MONTO USD",
         "rawType": "float64",
         "type": "float"
        },
        {
         "name": "GRUPO",
         "rawType": "object",
         "type": "unknown"
        },
        {
         "name": "VENTAS USD",
         "rawType": "float64",
         "type": "float"
        },
        {
         "name": "category",
         "rawType": "object",
         "type": "string"
        }
       ],
       "conversionMethod": "pd.DataFrame",
       "ref": "8356e309-6f2b-48e6-944d-8507d006c109",
       "rows": [
        [
         "2018-08-05 00:00:00",
         "MB-DIS-163S8M27",
         "1.0",
         "134.712643678",
         "0",
         "0.0",
         "erraticas"
        ],
        [
         "2018-08-12 00:00:00",
         "MB-DIS-163S8M27",
         "148.0",
         "2151.382183891",
         "0",
         "0.0",
         "erraticas"
        ],
        [
         "2018-08-19 00:00:00",
         "MB-DIS-163S8M27",
         "106.0",
         "1399.962183895",
         "0",
         "0.0",
         "erraticas"
        ],
        [
         "2018-08-26 00:00:00",
         "MB-DIS-163S8M27",
         "223.0",
         "3177.79919539",
         "0",
         "0.0",
         "erraticas"
        ],
        [
         "2018-09-02 00:00:00",
         "MB-DIS-163S8M27",
         "208.0",
         "2629.069080433",
         "0",
         "0.0",
         "erraticas"
        ],
        [
         "2018-09-09 00:00:00",
         "MB-DIS-163S8M27",
         "480.0",
         "5855.823103418",
         "0",
         "0.0",
         "erraticas"
        ],
        [
         "2018-09-16 00:00:00",
         "MB-DIS-163S8M27",
         "441.0",
         "6295.314140187",
         "0",
         "0.0",
         "erraticas"
        ],
        [
         "2018-09-23 00:00:00",
         "MB-DIS-163S8M27",
         "343.0",
         "4255.821379276",
         "0",
         "0.0",
         "erraticas"
        ],
        [
         "2018-09-30 00:00:00",
         "MB-DIS-163S8M27",
         "363.0",
         "4496.811838991",
         "0",
         "0.0",
         "erraticas"
        ],
        [
         "2018-10-07 00:00:00",
         "MB-DIS-163S8M27",
         "1393.0",
         "16908.316206849",
         "0",
         "0.0",
         "erraticas"
        ],
        [
         "2018-10-14 00:00:00",
         "MB-DIS-163S8M27",
         "1298.0",
         "15640.906206829999",
         "0",
         "0.0",
         "erraticas"
        ],
        [
         "2018-10-21 00:00:00",
         "MB-DIS-163S8M27",
         "593.0",
         "7390.97770112",
         "0",
         "0.0",
         "erraticas"
        ],
        [
         "2018-10-28 00:00:00",
         "MB-DIS-163S8M27",
         "48.0",
         "701.06632182",
         "0",
         "0.0",
         "erraticas"
        ],
        [
         "2018-11-04 00:00:00",
         "MB-DIS-163S8M27",
         "297.0",
         "3578.846436744",
         "0",
         "0.0",
         "erraticas"
        ],
        [
         "2018-11-11 00:00:00",
         "MB-DIS-163S8M27",
         "114.0",
         "1496.361494228",
         "0",
         "0.0",
         "erraticas"
        ],
        [
         "2018-11-18 00:00:00",
         "MB-DIS-163S8M27",
         "316.0",
         "4053.135057459",
         "0",
         "0.0",
         "erraticas"
        ],
        [
         "2018-11-25 00:00:00",
         "MB-DIS-163S8M27",
         "139.0",
         "1797.616206866",
         "0",
         "0.0",
         "erraticas"
        ],
        [
         "2018-12-02 00:00:00",
         "MB-DIS-163S8M27",
         "221.0",
         "2785.70908042",
         "0",
         "0.0",
         "erraticas"
        ],
        [
         "2018-12-09 00:00:00",
         "MB-DIS-163S8M27",
         "89.0",
         "1072.448390796",
         "0",
         "0.0",
         "erraticas"
        ],
        [
         "2018-12-16 00:00:00",
         "MB-DIS-163S8M27",
         "109.0",
         "1436.109539046",
         "0",
         "0.0",
         "erraticas"
        ],
        [
         "2018-12-23 00:00:00",
         "MB-DIS-163S8M27",
         "160.0",
         "1928.00172411",
         "0",
         "0.0",
         "erraticas"
        ],
        [
         "2018-12-30 00:00:00",
         "MB-DIS-163S8M27",
         "707.0",
         "8642.011953994",
         "0",
         "0.0",
         "erraticas"
        ],
        [
         "2019-01-06 00:00:00",
         "MB-DIS-163S8M27",
         "85.0",
         "1024.249770101",
         "0",
         "0.0",
         "erraticas"
        ],
        [
         "2019-01-13 00:00:00",
         "MB-DIS-163S8M27",
         "91.0",
         "1219.213103414",
         "0",
         "0.0",
         "erraticas"
        ],
        [
         "2019-01-20 00:00:00",
         "MB-DIS-163S8M27",
         "207.0",
         "2617.016665489",
         "0",
         "0.0",
         "erraticas"
        ],
        [
         "2019-01-27 00:00:00",
         "MB-DIS-163S8M27",
         "398.0",
         "4918.563103406",
         "0",
         "0.0",
         "erraticas"
        ],
        [
         "2019-02-03 00:00:00",
         "MB-DIS-163S8M27",
         "604.0",
         "7400.86356085",
         "0",
         "0.0",
         "erraticas"
        ],
        [
         "2019-02-10 00:00:00",
         "MB-DIS-163S8M27",
         "398.0",
         "4795.898505703",
         "0",
         "0.0",
         "erraticas"
        ],
        [
         "2019-02-17 00:00:00",
         "MB-DIS-163S8M27",
         "244.0",
         "2940.205057421",
         "0",
         "0.0",
         "erraticas"
        ],
        [
         "2019-02-24 00:00:00",
         "MB-DIS-163S8M27",
         "254.0",
         "3428.701839044",
         "0",
         "0.0",
         "erraticas"
        ],
        [
         "2019-03-03 00:00:00",
         "MB-DIS-163S8M27",
         "693.0",
         "8350.655747101",
         "0",
         "0.0",
         "erraticas"
        ],
        [
         "2019-03-10 00:00:00",
         "MB-DIS-163S8M27",
         "193.0",
         "2325.65264597",
         "0",
         "0.0",
         "erraticas"
        ],
        [
         "2019-03-17 00:00:00",
         "MB-DIS-163S8M27",
         "127.0",
         "2021.008505722",
         "0",
         "0.0",
         "erraticas"
        ],
        [
         "2019-03-24 00:00:00",
         "MB-DIS-163S8M27",
         "134.0",
         "1614.704367763",
         "0",
         "0.0",
         "erraticas"
        ],
        [
         "2019-03-31 00:00:00",
         "MB-DIS-163S8M27",
         "336.0",
         "4294.131837884",
         "0",
         "0.0",
         "erraticas"
        ],
        [
         "2019-04-07 00:00:00",
         "MB-DIS-163S8M27",
         "345.0",
         "4157.257011471",
         "0",
         "0.0",
         "erraticas"
        ],
        [
         "2019-04-14 00:00:00",
         "MB-DIS-163S8M27",
         "544.0",
         "6677.8709183500005",
         "0",
         "0.0",
         "erraticas"
        ],
        [
         "2019-04-21 00:00:00",
         "MB-DIS-163S8M27",
         "1999.0",
         "24210.621494202",
         "0",
         "0.0",
         "erraticas"
        ],
        [
         "2019-04-28 00:00:00",
         "MB-DIS-163S8M27",
         "399.0",
         "4930.616666605",
         "0",
         "0.0",
         "erraticas"
        ],
        [
         "2019-05-05 00:00:00",
         "MB-DIS-163S8M27",
         "406.0",
         "4892.2995401690005",
         "0",
         "0.0",
         "erraticas"
        ],
        [
         "2019-05-12 00:00:00",
         "MB-DIS-163S8M27",
         "767.0",
         "9487.678735568",
         "0",
         "0.0",
         "erraticas"
        ],
        [
         "2019-05-19 00:00:00",
         "MB-DIS-163S8M27",
         "1096.0",
         "13206.821494121",
         "0",
         "0.0",
         "erraticas"
        ],
        [
         "2019-05-26 00:00:00",
         "MB-DIS-163S8M27",
         "196.0",
         "2852.452872402",
         "0",
         "0.0",
         "erraticas"
        ],
        [
         "2019-06-02 00:00:00",
         "MB-DIS-163S8M27",
         "301.0",
         "3749.720342467",
         "0",
         "0.0",
         "erraticas"
        ],
        [
         "2019-06-09 00:00:00",
         "MB-DIS-163S8M27",
         "185.0",
         "2474.5750574490003",
         "0",
         "0.0",
         "erraticas"
        ],
        [
         "2019-06-16 00:00:00",
         "MB-DIS-163S8M27",
         "198.0",
         "2508.565057437",
         "0",
         "0.0",
         "erraticas"
        ],
        [
         "2019-06-23 00:00:00",
         "MB-DIS-163S8M27",
         "93.0",
         "1611.299310321",
         "0",
         "0.0",
         "erraticas"
        ],
        [
         "2019-06-30 00:00:00",
         "MB-DIS-163S8M27",
         "521.0",
         "6523.36574477",
         "0",
         "0.0",
         "erraticas"
        ],
        [
         "2019-07-07 00:00:00",
         "MB-DIS-163S8M27",
         "71.0",
         "1100.874597665",
         "0",
         "0.0",
         "erraticas"
        ],
        [
         "2019-07-14 00:00:00",
         "MB-DIS-163S8M27",
         "383.0",
         "4860.474712583",
         "0",
         "0.0",
         "erraticas"
        ]
       ],
       "shape": {
        "columns": 6,
        "rows": 485
       }
      },
      "text/html": [
       "<div>\n",
       "<style scoped>\n",
       "    .dataframe tbody tr th:only-of-type {\n",
       "        vertical-align: middle;\n",
       "    }\n",
       "\n",
       "    .dataframe tbody tr th {\n",
       "        vertical-align: top;\n",
       "    }\n",
       "\n",
       "    .dataframe thead th {\n",
       "        text-align: right;\n",
       "    }\n",
       "</style>\n",
       "<table border=\"1\" class=\"dataframe\">\n",
       "  <thead>\n",
       "    <tr style=\"text-align: right;\">\n",
       "      <th></th>\n",
       "      <th>ItemCode</th>\n",
       "      <th>Quantity</th>\n",
       "      <th>MONTO USD</th>\n",
       "      <th>GRUPO</th>\n",
       "      <th>VENTAS USD</th>\n",
       "      <th>category</th>\n",
       "    </tr>\n",
       "    <tr>\n",
       "      <th>FECHA</th>\n",
       "      <th></th>\n",
       "      <th></th>\n",
       "      <th></th>\n",
       "      <th></th>\n",
       "      <th></th>\n",
       "      <th></th>\n",
       "    </tr>\n",
       "  </thead>\n",
       "  <tbody>\n",
       "    <tr>\n",
       "      <th>2018-08-05</th>\n",
       "      <td>MB-DIS-163S8M27</td>\n",
       "      <td>1.0</td>\n",
       "      <td>134.712644</td>\n",
       "      <td>0</td>\n",
       "      <td>0.0</td>\n",
       "      <td>erraticas</td>\n",
       "    </tr>\n",
       "    <tr>\n",
       "      <th>2018-08-12</th>\n",
       "      <td>MB-DIS-163S8M27</td>\n",
       "      <td>148.0</td>\n",
       "      <td>2151.382184</td>\n",
       "      <td>0</td>\n",
       "      <td>0.0</td>\n",
       "      <td>erraticas</td>\n",
       "    </tr>\n",
       "    <tr>\n",
       "      <th>2018-08-19</th>\n",
       "      <td>MB-DIS-163S8M27</td>\n",
       "      <td>106.0</td>\n",
       "      <td>1399.962184</td>\n",
       "      <td>0</td>\n",
       "      <td>0.0</td>\n",
       "      <td>erraticas</td>\n",
       "    </tr>\n",
       "    <tr>\n",
       "      <th>2018-08-26</th>\n",
       "      <td>MB-DIS-163S8M27</td>\n",
       "      <td>223.0</td>\n",
       "      <td>3177.799195</td>\n",
       "      <td>0</td>\n",
       "      <td>0.0</td>\n",
       "      <td>erraticas</td>\n",
       "    </tr>\n",
       "    <tr>\n",
       "      <th>2018-09-02</th>\n",
       "      <td>MB-DIS-163S8M27</td>\n",
       "      <td>208.0</td>\n",
       "      <td>2629.069080</td>\n",
       "      <td>0</td>\n",
       "      <td>0.0</td>\n",
       "      <td>erraticas</td>\n",
       "    </tr>\n",
       "    <tr>\n",
       "      <th>...</th>\n",
       "      <td>...</td>\n",
       "      <td>...</td>\n",
       "      <td>...</td>\n",
       "      <td>...</td>\n",
       "      <td>...</td>\n",
       "      <td>...</td>\n",
       "    </tr>\n",
       "    <tr>\n",
       "      <th>2021-09-05</th>\n",
       "      <td>NGK-BKR6EKB-11</td>\n",
       "      <td>0.0</td>\n",
       "      <td>0.000000</td>\n",
       "      <td>0</td>\n",
       "      <td>0.0</td>\n",
       "      <td>erraticas</td>\n",
       "    </tr>\n",
       "    <tr>\n",
       "      <th>2021-09-12</th>\n",
       "      <td>NGK-BKR6EKB-11</td>\n",
       "      <td>0.0</td>\n",
       "      <td>0.000000</td>\n",
       "      <td>0</td>\n",
       "      <td>0.0</td>\n",
       "      <td>erraticas</td>\n",
       "    </tr>\n",
       "    <tr>\n",
       "      <th>2021-09-19</th>\n",
       "      <td>NGK-BKR6EKB-11</td>\n",
       "      <td>550.0</td>\n",
       "      <td>1006.500000</td>\n",
       "      <td>0</td>\n",
       "      <td>0.0</td>\n",
       "      <td>erraticas</td>\n",
       "    </tr>\n",
       "    <tr>\n",
       "      <th>2021-09-26</th>\n",
       "      <td>NGK-BKR6EKB-11</td>\n",
       "      <td>3250.0</td>\n",
       "      <td>5947.500000</td>\n",
       "      <td>0</td>\n",
       "      <td>0.0</td>\n",
       "      <td>erraticas</td>\n",
       "    </tr>\n",
       "    <tr>\n",
       "      <th>2021-10-03</th>\n",
       "      <td>NGK-BKR6EKB-11</td>\n",
       "      <td>200.0</td>\n",
       "      <td>366.000000</td>\n",
       "      <td>0</td>\n",
       "      <td>0.0</td>\n",
       "      <td>erraticas</td>\n",
       "    </tr>\n",
       "  </tbody>\n",
       "</table>\n",
       "<p>485 rows × 6 columns</p>\n",
       "</div>"
      ],
      "text/plain": [
       "                   ItemCode  Quantity    MONTO USD GRUPO  VENTAS USD  \\\n",
       "FECHA                                                                  \n",
       "2018-08-05  MB-DIS-163S8M27       1.0   134.712644     0         0.0   \n",
       "2018-08-12  MB-DIS-163S8M27     148.0  2151.382184     0         0.0   \n",
       "2018-08-19  MB-DIS-163S8M27     106.0  1399.962184     0         0.0   \n",
       "2018-08-26  MB-DIS-163S8M27     223.0  3177.799195     0         0.0   \n",
       "2018-09-02  MB-DIS-163S8M27     208.0  2629.069080     0         0.0   \n",
       "...                     ...       ...          ...   ...         ...   \n",
       "2021-09-05   NGK-BKR6EKB-11       0.0     0.000000     0         0.0   \n",
       "2021-09-12   NGK-BKR6EKB-11       0.0     0.000000     0         0.0   \n",
       "2021-09-19   NGK-BKR6EKB-11     550.0  1006.500000     0         0.0   \n",
       "2021-09-26   NGK-BKR6EKB-11    3250.0  5947.500000     0         0.0   \n",
       "2021-10-03   NGK-BKR6EKB-11     200.0   366.000000     0         0.0   \n",
       "\n",
       "             category  \n",
       "FECHA                  \n",
       "2018-08-05  erraticas  \n",
       "2018-08-12  erraticas  \n",
       "2018-08-19  erraticas  \n",
       "2018-08-26  erraticas  \n",
       "2018-09-02  erraticas  \n",
       "...               ...  \n",
       "2021-09-05  erraticas  \n",
       "2021-09-12  erraticas  \n",
       "2021-09-19  erraticas  \n",
       "2021-09-26  erraticas  \n",
       "2021-10-03  erraticas  \n",
       "\n",
       "[485 rows x 6 columns]"
      ]
     },
     "execution_count": 64,
     "metadata": {},
     "output_type": "execute_result"
    }
   ],
   "source": [
    "import pandas as pd\n",
    "import matplotlib.pyplot as plt\n",
    "from scipy.stats import shapiro, boxcox\n",
    "from sklearn.preprocessing import PowerTransformer\n",
    "from statsmodels.tsa.stattools import adfuller\n",
    "from numpy import log\n",
    "import numpy as np\n",
    "\n",
    "excel1 = pd.read_excel(\"../datos/centro_movil.xlsx\", engine='openpyxl')\n",
    "excel2 = pd.read_excel(\"../datos/centro_movil1.xlsx\", engine='openpyxl')\n",
    "excel3 = pd.read_excel(\"../datos/centro_movil2.xlsx\", engine='openpyxl')\n",
    "excel4 = pd.read_excel(\"../datos/SUPRENS dataset.xlsx\", engine='openpyxl')\n",
    "excel5 = pd.read_excel(\"../datos/TOYO dataset.xlsx\", engine='openpyxl')\n",
    "df = pd.concat([excel1, excel2, excel3,excel4, excel5], ignore_index=True)\n",
    "def calculate_metrics(df, item_code):\n",
    "    df_item = df.loc[df['ItemCode'] == item_code].copy()\n",
    "    df_item['FECHA'] = pd.to_datetime(df_item['FECHA'])\n",
    "    df_item.set_index('FECHA', inplace=True)\n",
    "    df_resampled = df_item.resample('W').sum()\n",
    "    df_filtered = df_resampled[df_resampled['Quantity'] != 0]\n",
    "\n",
    "    # Calcular ADI\n",
    "    total_periods = len(df_resampled)\n",
    "    periods_with_demand = len(df_filtered)\n",
    "    ADI = total_periods / periods_with_demand\n",
    "\n",
    "    # Calcular CV²\n",
    "    media = np.mean(df_filtered['Quantity'])\n",
    "    sdt = np.std(df_filtered['Quantity'])\n",
    "    cv = (sdt / media) ** 2\n",
    "        \n",
    "    if ADI <= 1.32 and cv <= 0.49:\n",
    "        df_resampled['category'] = 'suavizadas'\n",
    "    elif ADI <= 1.32 and cv > 0.49:\n",
    "        df_resampled['category'] = 'erraticas'\n",
    "    elif ADI > 1.32 and cv > 0.49:\n",
    "        df_resampled['category'] = 'irregulares'\n",
    "    elif ADI > 1.32 and cv <= 0.49:\n",
    "        df_resampled['category'] = 'intermitentes'\n",
    "\n",
    "    df_resampled['ItemCode'] = item_code\n",
    "    \n",
    "    return cv, ADI, df_resampled\n",
    "\n",
    "metrics = {item_code: calculate_metrics(df, item_code) for item_code in item_codes}\n",
    "\n",
    "df_merge = pd.concat([df_resampled for _, _, df_resampled in metrics.values()], ignore_index=False)\n",
    "\n",
    "for item_code, (cv, ADI, _) in metrics.items():\n",
    "    print(f\"ItemCode: {item_code}, CV: {cv}, ADI: {ADI}\")\n",
    "\n",
    "\n",
    "print(df_merge['category'].unique())\n",
    "df_merge\n"
   ]
  },
  {
   "cell_type": "code",
   "execution_count": 65,
   "id": "d30aedc6",
   "metadata": {},
   "outputs": [
    {
     "data": {
      "text/plain": [
       "Index(['ItemCode', 'FECHA', 'Quantity', 'MONTO USD', 'GRUPO', 'VENTAS USD'], dtype='object')"
      ]
     },
     "execution_count": 65,
     "metadata": {},
     "output_type": "execute_result"
    }
   ],
   "source": [
    "df.columns"
   ]
  },
  {
   "cell_type": "code",
   "execution_count": 66,
   "id": "e1c36ba8",
   "metadata": {},
   "outputs": [
    {
     "data": {
      "text/plain": [
       "13.854545454545455"
      ]
     },
     "execution_count": 66,
     "metadata": {},
     "output_type": "execute_result"
    }
   ],
   "source": [
    "np.mean(excel5['Quantity'])"
   ]
  },
  {
   "cell_type": "code",
   "execution_count": 67,
   "id": "83f53765",
   "metadata": {},
   "outputs": [
    {
     "data": {
      "text/plain": [
       "18.266302094507047"
      ]
     },
     "execution_count": 67,
     "metadata": {},
     "output_type": "execute_result"
    }
   ],
   "source": [
    "np.std(excel5['Quantity'])"
   ]
  },
  {
   "cell_type": "code",
   "execution_count": 69,
   "id": "127e7a63",
   "metadata": {},
   "outputs": [
    {
     "data": {
      "image/png": "[encoded data removed]",
      "text/plain": [
       "<Figure size 1200x800 with 1 Axes>"
      ]
     },
     "metadata": {},
     "output_type": "display_data"
    }
   ],
   "source": [
    "import pandas as pd\n",
    "import matplotlib.pyplot as plt\n",
    "import matplotlib.dates as mdates\n",
    "\n",
    "# Asegúrate de que el DataFrame 'excel5' ya esté definido y contenga las columnas 'FECHA' y 'Quantity'\n",
    "\n",
    "# Convertir la columna 'FECHA' a tipo datetime\n",
    "excel2['FECHA'] = pd.to_datetime(excel2['FECHA'])\n",
    "\n",
    "# Establecer la columna 'FECHA' como índice\n",
    "excel2.set_index('FECHA', inplace=True)\n",
    "\n",
    "# Resamplear los datos por semana y calcular la suma de 'Quantity' para cada semana\n",
    "df_resampled = excel2.resample('W').sum()\n",
    "\n",
    "# Filtrar las semanas con cantidad diferente de cero\n",
    "df_resampled = df_resampled[df_resampled['Quantity'] != 0]\n",
    "\n",
    "# Crear la gráfica\n",
    "plt.figure(figsize=(12, 8))\n",
    "plt.plot(df_resampled.index, df_resampled['Quantity'], label='Cantidad', marker='o')\n",
    "\n",
    "# Formato del eje x para fechas\n",
    "plt.gca().xaxis.set_major_formatter(mdates.DateFormatter('%Y-%m-%d'))\n",
    "plt.gca().xaxis.set_major_locator(mdates.WeekdayLocator())\n",
    "\n",
    "# Etiquetas y título\n",
    "plt.xlabel('Fecha')\n",
    "plt.ylabel('Cantidad')\n",
    "plt.title('Cantidad semanal')\n",
    "plt.legend()\n",
    "plt.grid(True)\n",
    "plt.tight_layout()\n",
    "plt.xticks(rotation=45)\n",
    "plt.show()\n"
   ]
  },
  {
   "cell_type": "code",
   "execution_count": null,
   "id": "d2647698",
   "metadata": {},
   "outputs": [],
   "source": []
  }
 ],
 "metadata": {
  "kernelspec": {
   "display_name": "base",
   "language": "python",
   "name": "python3"
  },
  "language_info": {
   "codemirror_mode": {
    "name": "ipython",
    "version": 3
   },
   "file_extension": ".py",
   "mimetype": "text/x-python",
   "name": "python",
   "nbconvert_exporter": "python",
   "pygments_lexer": "ipython3",
   "version": "3.12.7"
  }
 },
 "nbformat": 4,
 "nbformat_minor": 5
}
